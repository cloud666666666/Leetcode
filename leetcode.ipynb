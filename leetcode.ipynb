{
 "cells": [
  {
   "metadata": {
    "ExecuteTime": {
     "end_time": "2024-10-03T02:52:38.058234Z",
     "start_time": "2024-10-03T02:52:38.048500Z"
    }
   },
   "cell_type": "code",
   "source": [
    "#https://leetcode.cn/problems/two-sum/\n",
    "from typing import List, Optional\n",
    "class Solution:\n",
    "    def twoSum(self, nums: List[int], target: int) -> List[int]:\n",
    "        hash_map={}\n",
    "        for index,value in enumerate(nums):\n",
    "            if target-value in hash_map:\n",
    "                return [hash_map[target-value],index]\n",
    "            else:\n",
    "                hash_map[value]=index       "
   ],
   "id": "cb55222624f955cc",
   "outputs": [],
   "execution_count": 1
  },
  {
   "metadata": {},
   "cell_type": "markdown",
   "source": "#",
   "id": "700361ea1990b517"
  },
  {
   "metadata": {
    "ExecuteTime": {
     "end_time": "2024-10-03T02:52:38.073006Z",
     "start_time": "2024-10-03T02:52:38.059173Z"
    }
   },
   "cell_type": "code",
   "source": [
    "#https://leetcode.cn/problems/add-two-numbers/\n",
    "class ListNode:\n",
    "    def __init__(self, val=0, next=None):\n",
    "        self.val = val\n",
    "        self.next = next\n",
    "class Solution:\n",
    "    def addTwoNumbers(self, l1: Optional[ListNode], l2: Optional[ListNode]) -> Optional[ListNode]:\n",
    "        val1=l1.val if l1 else 0\n",
    "        val2=l2.val if l2 else 0\n",
    "        total=(val1+val2)\n",
    "        carry=total//10\n",
    "        res=ListNode(total%10)\n",
    "        cur=res\n",
    "        l1=l1.next if l1 else None\n",
    "        l2=l2.next if l2 else None\n",
    "        while l1 or l2 or carry:\n",
    "            val1=l1.val if l1 else 0\n",
    "            val2=l2.val if l2 else 0\n",
    "            total=(val1+val2+carry)\n",
    "            cur.next=ListNode(total%10)\n",
    "            carry=total//10\n",
    "            cur=cur.next\n",
    "            l1=l1.next if l1 else None\n",
    "            l2=l2.next if l2 else None\n",
    "        return res"
   ],
   "id": "ce615a7195f77181",
   "outputs": [],
   "execution_count": 2
  },
  {
   "metadata": {
    "ExecuteTime": {
     "end_time": "2024-10-03T02:52:38.088552Z",
     "start_time": "2024-10-03T02:52:38.073946Z"
    }
   },
   "cell_type": "code",
   "source": [
    "#https://leetcode.cn/problems/longest-substring-without-repeating-characters/description/\n",
    "class Solution:\n",
    "    def lengthOfLongestSubstring(self, s: str) -> int:\n",
    "        hash_map={}\n",
    "        max_len=0\n",
    "        start=0\n",
    "        for i,item in enumerate(s):\n",
    "            if item in hash_map and hash_map[item]>=start:\n",
    "                start=hash_map[item]+1\n",
    "            hash_map[item]=i            \n",
    "            max_len=max(max_len,i-start+1)\n",
    "        return max_len"
   ],
   "id": "e23bde94e095f888",
   "outputs": [],
   "execution_count": 3
  },
  {
   "metadata": {
    "ExecuteTime": {
     "end_time": "2024-10-03T02:52:38.104245Z",
     "start_time": "2024-10-03T02:52:38.089560Z"
    }
   },
   "cell_type": "code",
   "source": [
    "#https://leetcode.cn/problems/median-of-two-sorted-arrays/description/\n",
    "class Solution:\n",
    "    def findMedianSortedArrays(self, nums1: List[int], nums2: List[int]) -> float:\n",
    "        total_len=len(nums1)+len(nums2)\n",
    "        if total_len%2==0:\n",
    "            return (self.find_element(nums1, nums2,total_len//2) + self.find_element(nums1, nums2, total_len // 2 + 1))/2\n",
    "        else:\n",
    "            return self.find_element(nums1,nums2,total_len//2+1)\n",
    "    def find_element(self, nums1: List[int], nums2: List[int],k)->float:\n",
    "        len1,len2=len(nums1),len(nums2)\n",
    "        index1,index2=0,0\n",
    "        while True:\n",
    "            if index1==len1:\n",
    "                return nums2[index2+k-1]\n",
    "            elif index2==len2:\n",
    "                return nums1[index1+k-1]\n",
    "            if k==1:\n",
    "                return min(nums1[index1],nums2[index2])\n",
    "            new_index1=min(index1+k//2-1,len1-1)\n",
    "            new_index2=min(index2+k//2-1,len2-1)\n",
    "            if nums1[new_index1]<=nums2[new_index2]:\n",
    "                k-=new_index1-index1+1\n",
    "                index1=new_index1+1\n",
    "            else:\n",
    "                k-=new_index2-index2+1\n",
    "                index2=new_index2+1\n",
    "        "
   ],
   "id": "e5904732130cda14",
   "outputs": [],
   "execution_count": 4
  },
  {
   "metadata": {
    "ExecuteTime": {
     "end_time": "2024-10-03T02:52:38.119480Z",
     "start_time": "2024-10-03T02:52:38.106193Z"
    }
   },
   "cell_type": "code",
   "source": [
    "#https://leetcode.cn/problems/longest-palindromic-substring/\n",
    "class Solution:\n",
    "    def longestPalindrome(self, s: str) -> str:\n",
    "        longest_palindrome=''\n",
    "        for i in range(len(s)):\n",
    "            odd_palindrome=self.palindrome(i,i,s)\n",
    "            even_palindrome=self.palindrome(i,i+1,s)\n",
    "            longest_palindrome=max(longest_palindrome,odd_palindrome,even_palindrome,key=len)\n",
    "        return longest_palindrome\n",
    "    def palindrome(self,left,right ,s: str) -> str:\n",
    "        while left>=0 and right<len(s) and s[left]==s[right] : \n",
    "            left-=1\n",
    "            right+=1\n",
    "        return s[left+1:right]"
   ],
   "id": "52ff58db6daee6f",
   "outputs": [],
   "execution_count": 5
  },
  {
   "metadata": {
    "ExecuteTime": {
     "end_time": "2024-10-03T02:52:38.135302Z",
     "start_time": "2024-10-03T02:52:38.120375Z"
    }
   },
   "cell_type": "code",
   "source": [
    "#https://leetcode.cn/problems/zigzag-conversion/\n",
    "class Solution:\n",
    "    def convert(self, s: str, numRows: int) -> str:\n",
    "        if numRows == 1:\n",
    "            return s\n",
    "        length=len(s)\n",
    "        round=2*numRows-2\n",
    "        res=[]\n",
    "        for i in range(numRows):\n",
    "            for j in range(i,length,round):\n",
    "                res.append(s[j])\n",
    "                if 0<i<numRows-1 and (j+round-2*i)<length:\n",
    "                    res.append(s[j+round-2*i])\n",
    "        return ''.join(res)"
   ],
   "id": "cb755f95331b668e",
   "outputs": [],
   "execution_count": 6
  },
  {
   "metadata": {
    "ExecuteTime": {
     "end_time": "2024-10-03T02:52:38.150701Z",
     "start_time": "2024-10-03T02:52:38.135302Z"
    }
   },
   "cell_type": "code",
   "source": [
    "#https://leetcode.cn/problems/reverse-integer/solutions/755611/zheng-shu-fan-zhuan-by-leetcode-solution-bccn/\n",
    "class Solution:\n",
    "    def reverse(self, x: int) -> int:\n",
    "        new=0\n",
    "        if x>=0:\n",
    "            while x!=0:\n",
    "                new=x%10+new*10\n",
    "                x=x//10\n",
    "        else:\n",
    "            new-=self.reverse(0-x)\n",
    "        if -2**31< new<2**31-1:\n",
    "            return new\n",
    "        else:\n",
    "            return 0"
   ],
   "id": "f1348e58d1f08c1c",
   "outputs": [],
   "execution_count": 7
  },
  {
   "metadata": {
    "ExecuteTime": {
     "end_time": "2024-10-03T02:52:38.167215Z",
     "start_time": "2024-10-03T02:52:38.151695Z"
    }
   },
   "cell_type": "code",
   "source": [
    "#https://leetcode.cn/problems/string-to-integer-atoi/description/\n",
    "class Atoi:\n",
    "    def __init__(self):\n",
    "        self.state='start'\n",
    "        self.sign=1\n",
    "        self.ans=0\n",
    "        self.table={\n",
    "            'start':['start','signed','in_number','end'],\n",
    "            'signed':['end','end','in_number','end'],\n",
    "            'in_number':['end','end','in_number','end'],\n",
    "            'end':['end','end','end','end']\n",
    "        }\n",
    "    def get_col(self,c):\n",
    "        if c==' ':\n",
    "            return 0\n",
    "        elif c=='+'or c=='-':\n",
    "            return 1\n",
    "        elif c.isdigit():\n",
    "            return 2\n",
    "        else:\n",
    "            return 3\n",
    "    def get(self,c):\n",
    "        self.state=self.table[self.state][self.get_col(c)]\n",
    "        if self.state=='in_number':\n",
    "            self.ans=self.ans*10+int(c)\n",
    "            self.ans=min(self.ans,2**31-1) if self.sign==1 else min(self.ans,2**31)\n",
    "        elif self.state=='signed':\n",
    "            self.sign=1 if c=='+' else -1\n",
    "class Solution:\n",
    "    def myAtoi(self, s: str) -> int:\n",
    "        atoi=Atoi()\n",
    "        for i in s:\n",
    "            atoi.get(i)\n",
    "        return atoi.sign * atoi.ans\n",
    "\n",
    "\n",
    "\n"
   ],
   "id": "20c18e7903df848d",
   "outputs": [],
   "execution_count": 8
  },
  {
   "metadata": {
    "ExecuteTime": {
     "end_time": "2024-10-03T02:52:38.183151Z",
     "start_time": "2024-10-03T02:52:38.168326Z"
    }
   },
   "cell_type": "code",
   "source": [
    "#https://leetcode.cn/problems/palindrome-number/\n",
    "class Solution:\n",
    "    def isPalindrome(self, x: int) -> bool:\n",
    "        if x<0 or x%10==0 and x!=0 :\n",
    "            return False\n",
    "        i=0\n",
    "        while i<x:\n",
    "            i=i*10+x%10\n",
    "            x=x//10\n",
    "        return x==i or x==i//10\n",
    "\n",
    "\n"
   ],
   "id": "3aabe75f977acc88",
   "outputs": [],
   "execution_count": 9
  },
  {
   "metadata": {
    "ExecuteTime": {
     "end_time": "2024-10-03T02:52:38.199274Z",
     "start_time": "2024-10-03T02:52:38.184091Z"
    }
   },
   "cell_type": "code",
   "source": [
    "#https://leetcode.cn/problems/regular-expression-matching/\n",
    "class Solution:\n",
    "    def isMatch(self, s: str, p: str) -> bool:\n",
    "        dp=[[False]*(len(p)+1) for _ in range(len(s)+1)]\n",
    "        dp[0][0]=True\n",
    "        for i in range(1,len(p)+1):\n",
    "            if p[i-1]=='*':\n",
    "                dp[0][i]=dp[0][i-2]\n",
    "        for i in range(1,len(s)+1):\n",
    "            for j in range(1,len(p)+1):\n",
    "                if p[j-1]=='.'or p[j-1]==s[i-1]:\n",
    "                    dp[i][j]=dp[i-1][j-1]\n",
    "                elif p[j-1]=='*':\n",
    "                    dp[i][j]=dp[i][j-2]\n",
    "                    if p[j-2]=='.' or p[j-2]==s[i-1]:\n",
    "                        dp[i][j]=dp[i][j-2] or dp[i-1][j]\n",
    "        return dp[len(s)][len(p)]"
   ],
   "id": "a4ea7cd1e6a60591",
   "outputs": [],
   "execution_count": 10
  },
  {
   "metadata": {
    "ExecuteTime": {
     "end_time": "2024-10-03T02:52:38.214715Z",
     "start_time": "2024-10-03T02:52:38.200263Z"
    }
   },
   "cell_type": "code",
   "source": [
    "#https://leetcode.cn/problems/container-with-most-water/description/\n",
    "class Solution:\n",
    "    def maxArea(self, height: List[int]) -> int:\n",
    "        left,right=0,len(height)-1\n",
    "        s=0\n",
    "        while left<right:\n",
    "            new_s=min(height[left],height[right])*(right-left)\n",
    "            s=max(s,new_s)\n",
    "            if height[left]<=height[right]:\n",
    "                left+=1\n",
    "            else:\n",
    "                right-=1\n",
    "        return s"
   ],
   "id": "f2dce7b51e273c2a",
   "outputs": [],
   "execution_count": 11
  },
  {
   "metadata": {
    "ExecuteTime": {
     "end_time": "2024-10-03T02:52:38.230285Z",
     "start_time": "2024-10-03T02:52:38.215719Z"
    }
   },
   "cell_type": "code",
   "source": [
    "#https://leetcode.cn/problems/integer-to-roman/\n",
    "class Solution:\n",
    "    hash_map={\n",
    "        1000:'M',\n",
    "        900:'CM',\n",
    "        500:'D',\n",
    "        400:'CD',\n",
    "        100:'C',\n",
    "        90:'XC',\n",
    "        50:'L',\n",
    "        40:'XL',\n",
    "        10:'X',\n",
    "        9:'IX',\n",
    "        5:'V',\n",
    "        4:'IV',\n",
    "        1:'I'\n",
    "    }\n",
    "    def intToRoman(self, num: int) -> str:\n",
    "        res=[]\n",
    "        for i,s in self.hash_map.items():\n",
    "            while num >=i:\n",
    "                num-=i\n",
    "                res.append(s)\n",
    "        return ''.join(res)"
   ],
   "id": "487c429b9dfc1a5f",
   "outputs": [],
   "execution_count": 12
  }
 ],
 "metadata": {
  "kernelspec": {
   "display_name": "Python 3",
   "language": "python",
   "name": "python3"
  },
  "language_info": {
   "codemirror_mode": {
    "name": "ipython",
    "version": 2
   },
   "file_extension": ".py",
   "mimetype": "text/x-python",
   "name": "python",
   "nbconvert_exporter": "python",
   "pygments_lexer": "ipython2",
   "version": "2.7.6"
  }
 },
 "nbformat": 4,
 "nbformat_minor": 5
}
