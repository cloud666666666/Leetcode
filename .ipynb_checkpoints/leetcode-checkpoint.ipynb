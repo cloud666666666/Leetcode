{
 "cells": [
  {
   "metadata": {
    "ExecuteTime": {
     "end_time": "2024-09-30T00:39:28.793269Z",
     "start_time": "2024-09-30T00:39:28.773196Z"
    }
   },
   "cell_type": "code",
   "source": [
    "#https://leetcode.cn/problems/two-sum/\n",
    "from typing import List, Optional\n",
    "class Solution:\n",
    "    def twoSum(self, nums: List[int], target: int) -> List[int]:\n",
    "        hash_map={}\n",
    "        for index,value in enumerate(nums):\n",
    "            if target-value in hash_map:\n",
    "                return [hash_map[target-value],index]\n",
    "            else:\n",
    "                hash_map[value]=index       "
   ],
   "id": "cb55222624f955cc",
   "outputs": [],
   "execution_count": 1
  },
  {
   "metadata": {},
   "cell_type": "markdown",
   "source": "#",
   "id": "700361ea1990b517"
  },
  {
   "metadata": {},
   "cell_type": "code",
   "outputs": [],
   "execution_count": null,
   "source": [
    "#https://leetcode.cn/problems/add-two-numbers/\n",
    "class ListNode:\n",
    "    def __init__(self, val=0, next=None):\n",
    "        self.val = val\n",
    "        self.next = next\n",
    "class Solution:\n",
    "    def addTwoNumbers(self, l1: Optional[ListNode], l2: Optional[ListNode]) -> Optional[ListNode]:\n",
    "        val1=l1.val if l1 else 0\n",
    "        val2=l2.val if l2 else 0\n",
    "        total=(val1+val2)\n",
    "        carry=total//10\n",
    "        res=ListNode(total%10)\n",
    "        cur=res\n",
    "        l1=l1.next if l1 else None\n",
    "        l2=l2.next if l2 else None\n",
    "        while l1 or l2 or carry:\n",
    "            val1=l1.val if l1 else 0\n",
    "            val2=l2.val if l2 else 0\n",
    "            total=(val1+val2+carry)\n",
    "            cur.next=ListNode(total%10)\n",
    "            carry=total//10\n",
    "            cur=cur.next\n",
    "            l1=l1.next if l1 else None\n",
    "            l2=l2.next if l2 else None\n",
    "        return res"
   ],
   "id": "ce615a7195f77181"
  },
  {
   "metadata": {
    "ExecuteTime": {
     "end_time": "2024-09-30T04:55:09.512490Z",
     "start_time": "2024-09-30T04:55:09.492489Z"
    }
   },
   "cell_type": "code",
   "source": [
    "#https://leetcode.cn/problems/longest-substring-without-repeating-characters/description/\n",
    "class Solution:\n",
    "    def lengthOfLongestSubstring(self, s: str) -> int:\n",
    "        max_len,curlen=1,1\n",
    "        start_i=0\n",
    "        for i,item in enumerate(s):\n",
    "            if item==s[start_i]:\n",
    "                curlen=i-start_i\n",
    "                max_len=max(max_len,curlen)\n",
    "                start_i=i\n",
    "            else:\n",
    "                curlen+=1\n",
    "        return max_len\n",
    "solu=Solution()\n",
    "print(solu.lengthOfLongestSubstring(\"pwwkew\"))"
   ],
   "id": "e23bde94e095f888",
   "outputs": [
    {
     "name": "stdout",
     "output_type": "stream",
     "text": [
      "1\n"
     ]
    }
   ],
   "execution_count": 1
  }
 ],
 "metadata": {
  "kernelspec": {
   "display_name": "Python 3",
   "language": "python",
   "name": "python3"
  },
  "language_info": {
   "codemirror_mode": {
    "name": "ipython",
    "version": 2
   },
   "file_extension": ".py",
   "mimetype": "text/x-python",
   "name": "python",
   "nbconvert_exporter": "python",
   "pygments_lexer": "ipython2",
   "version": "2.7.6"
  }
 },
 "nbformat": 4,
 "nbformat_minor": 5
}
